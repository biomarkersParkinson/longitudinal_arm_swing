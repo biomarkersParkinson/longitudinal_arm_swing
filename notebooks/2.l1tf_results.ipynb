{
 "cells": [
  {
   "cell_type": "code",
   "execution_count": null,
   "metadata": {},
   "outputs": [],
   "source": [
    "import json\n",
    "import numpy as np\n",
    "import os\n",
    "import pandas as pd\n",
    "\n",
    "path = r'C:\\Users\\erik_\\Documents\\PhD\\data\\longitudinal_arm_swing\\prepared_data\\measures\\filtered_gait\\very_long_gait_segments'\n",
    "\n",
    "df = pd.read_csv(os.path.join(path, 'pd_las_measure_95p.csv'))"
   ]
  },
  {
   "cell_type": "code",
   "execution_count": null,
   "metadata": {},
   "outputs": [],
   "source": [
    "df_measures = pd.read_parquet(os.path.join(r'C:\\Users\\erik_\\Documents\\PhD\\data\\longitudinal_arm_swing\\prepared_data\\measures', 'digital_measures.parquet'))\n",
    "\n",
    "with open(os.path.join(r'C:\\Users\\erik_\\Documents\\PhD\\data\\longitudinal_arm_swing\\ids', 'ids_remaining_after_exclusions.json'), 'r') as f:\n",
    "    ids_remaining = json.load(f)\n",
    "\n",
    "with open(os.path.join(r'C:\\Users\\erik_\\Documents\\PhD\\data\\longitudinal_arm_swing\\ids', 'ids_excluded_by_category.json'), 'r') as f:\n",
    "    ids_excluded_by_category = json.load(f)"
   ]
  },
  {
   "cell_type": "code",
   "execution_count": 29,
   "metadata": {},
   "outputs": [],
   "source": [
    "df_l1tf = df_measures.loc[\n",
    "    (df_measures['dataset'] == 'denovo') &\n",
    "    (df_measures['filter_type'] == 'filtered') &\n",
    "    (df_measures['segment_category'] == 'very_long'),\n",
    "]"
   ]
  },
  {
   "cell_type": "code",
   "execution_count": 30,
   "metadata": {},
   "outputs": [
    {
     "data": {
      "text/plain": [
       "16"
      ]
     },
     "execution_count": 30,
     "metadata": {},
     "output_type": "execute_result"
    }
   ],
   "source": [
    "len(ids_remaining['l1tf']['denovo'])"
   ]
  },
  {
   "cell_type": "code",
   "execution_count": 31,
   "metadata": {},
   "outputs": [
    {
     "data": {
      "text/plain": [
       "344"
      ]
     },
     "execution_count": 31,
     "metadata": {},
     "output_type": "execute_result"
    }
   ],
   "source": [
    "df_l1tf = df_measures.loc[\n",
    "    (df_measures['id'].isin(ids_remaining['l1tf']['denovo'] + ids_remaining['l1tf']['ppp'])) & \n",
    "    (df_measures['filter_type']=='filtered') &\n",
    "    (df_measures['segment_category']=='very_long') &\n",
    "    (df_measures['week'] != 1) &\n",
    "    (df_measures['dataset'].isin(['denovo', 'ppp'])) &\n",
    "    (df_measures['sufficient_arm_swing_this_week'])\n",
    "]\n",
    "\n",
    "df_l1tf['id'].nunique()"
   ]
  },
  {
   "cell_type": "code",
   "execution_count": 32,
   "metadata": {},
   "outputs": [],
   "source": [
    "# denovo: POMU167A22995044870D\n",
    "# ppp: "
   ]
  },
  {
   "cell_type": "code",
   "execution_count": null,
   "metadata": {},
   "outputs": [
    {
     "data": {
      "text/plain": [
       "[]"
      ]
     },
     "execution_count": 33,
     "metadata": {},
     "output_type": "execute_result"
    }
   ],
   "source": [
    "analysis = 'srm'\n",
    "dataset = 'ppp'\n",
    "\n",
    "ids_unaccounted = [x for x in ids_remaining[analysis][dataset] if x not in df_l1tf['id'].unique()]\n",
    "\n",
    "[id for v in ids_excluded_by_category[analysis]['clinical']['ppp']['start_med'].values() for id in v if id in ids_unaccounted]"
   ]
  },
  {
   "cell_type": "code",
   "execution_count": 35,
   "metadata": {},
   "outputs": [
    {
     "data": {
      "text/plain": [
       "0"
      ]
     },
     "execution_count": 35,
     "metadata": {},
     "output_type": "execute_result"
    }
   ],
   "source": [
    "len(range(1,1))"
   ]
  },
  {
   "cell_type": "code",
   "execution_count": 36,
   "metadata": {},
   "outputs": [
    {
     "data": {
      "text/plain": [
       "[]"
      ]
     },
     "execution_count": 36,
     "metadata": {},
     "output_type": "execute_result"
    }
   ],
   "source": [
    "ids_unaccounted"
   ]
  },
  {
   "cell_type": "code",
   "execution_count": 37,
   "metadata": {},
   "outputs": [
    {
     "data": {
      "text/plain": [
       "False"
      ]
     },
     "execution_count": 37,
     "metadata": {},
     "output_type": "execute_result"
    }
   ],
   "source": [
    "'POMU167A22995044870D' in ids_remaining['l1tf']['denovo']"
   ]
  },
  {
   "cell_type": "code",
   "execution_count": 38,
   "metadata": {},
   "outputs": [],
   "source": [
    "# mas: 264\n",
    "# las: 132\n",
    "# unknown: 4\n",
    "# -> 400\n",
    "\n",
    "# vs 357 + 68 = 425"
   ]
  }
 ],
 "metadata": {
  "kernelspec": {
   "display_name": "lng-arm-swing-94SyJ-Jw-py3.11",
   "language": "python",
   "name": "python3"
  },
  "language_info": {
   "codemirror_mode": {
    "name": "ipython",
    "version": 3
   },
   "file_extension": ".py",
   "mimetype": "text/x-python",
   "name": "python",
   "nbconvert_exporter": "python",
   "pygments_lexer": "ipython3",
   "version": "3.11.5"
  }
 },
 "nbformat": 4,
 "nbformat_minor": 2
}
